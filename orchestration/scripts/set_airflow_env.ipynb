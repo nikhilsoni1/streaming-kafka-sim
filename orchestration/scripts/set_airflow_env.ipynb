{
 "cells": [
  {
   "cell_type": "code",
   "execution_count": 1,
   "metadata": {},
   "outputs": [],
   "source": [
    "# This notebook is used to configure and interact with an Amazon Managed Workflows for Apache Airflow (MWAA) environment.\n",
    "# It performs the following tasks:\n",
    "# 1. Loads environment variables from a `.env` file.\n",
    "# 2. Initializes an MWAA client using the AWS SDK (boto3).\n",
    "# 3. Creates a CLI token to interact with the MWAA environment.\n",
    "# 4. Defines a helper function to invoke Airflow CLI commands via HTTP requests.\n",
    "# 5. Sets Airflow variables in the MWAA environment using the loaded environment variables.\n",
    "import boto3\n",
    "import base64\n",
    "import requests\n",
    "from dotenv import dotenv_values"
   ]
  },
  {
   "cell_type": "code",
   "execution_count": null,
   "metadata": {},
   "outputs": [],
   "source": [
    "\n",
    "# --- Config ---\n",
    "mwaa_env_name = \"FLIGHT-MWAA-01\"\n",
    "region = \"us-east-1\"\n",
    "\n",
    "# --- Load variables from .env ---\n",
    "env_vars = dotenv_values(\".env\")"
   ]
  },
  {
   "cell_type": "code",
   "execution_count": 3,
   "metadata": {},
   "outputs": [
    {
     "data": {
      "text/plain": [
       "OrderedDict([('DATABASE_HOST',\n",
       "              'elephant01.cizii2a86p9h.us-east-1.rds.amazonaws.com'),\n",
       "             ('DATABASE_PORT', '5432'),\n",
       "             ('DATABASE_NAME', 'px4'),\n",
       "             ('DATABASE_USER', 'moffett_blvd'),\n",
       "             ('DATABASE_PASSWORD', 'RFM_analysis_2025'),\n",
       "             ('EMR_CONFIG_BUCKET', 'showrunner-airflow01'),\n",
       "             ('EMR_CONFIG_KEY', 'configs/emr-template.json')])"
      ]
     },
     "execution_count": 3,
     "metadata": {},
     "output_type": "execute_result"
    }
   ],
   "source": [
    "env_vars"
   ]
  },
  {
   "cell_type": "code",
   "execution_count": 4,
   "metadata": {},
   "outputs": [
    {
     "name": "stdout",
     "output_type": "stream",
     "text": [
      ">>> variables set DATABASE_HOST elephant01.cizii2a86p9h.us-east-1.rds.amazonaws.com\n",
      "Variable DATABASE_HOST created\n",
      ">>> variables set DATABASE_PORT 5432\n",
      "Variable DATABASE_PORT created\n",
      ">>> variables set DATABASE_NAME px4\n",
      "Variable DATABASE_NAME created\n",
      ">>> variables set DATABASE_USER moffett_blvd\n",
      "Variable DATABASE_USER created\n",
      ">>> variables set DATABASE_PASSWORD RFM_analysis_2025\n",
      "Variable DATABASE_PASSWORD created\n",
      ">>> variables set EMR_CONFIG_BUCKET showrunner-airflow01\n",
      "Variable EMR_CONFIG_BUCKET created\n",
      ">>> variables set EMR_CONFIG_KEY configs/emr-template.json\n",
      "Variable EMR_CONFIG_KEY created\n"
     ]
    }
   ],
   "source": [
    "\n",
    "# --- Initialize MWAA client ---\n",
    "mwaa = boto3.client(\"mwaa\", region_name=region)\n",
    "\n",
    "# --- Create CLI token ---\n",
    "token_response = mwaa.create_cli_token(Name=mwaa_env_name)\n",
    "cli_token = token_response[\"CliToken\"]\n",
    "web_server_hostname = token_response[\"WebServerHostname\"]\n",
    "\n",
    "# --- Helper to invoke Airflow CLI ---\n",
    "def invoke_airflow_cli(command: str):\n",
    "    print(f\">>> {command}\")\n",
    "    response = requests.post(\n",
    "        f\"https://{web_server_hostname}/aws_mwaa/cli\",\n",
    "        headers={\"Authorization\": f\"Bearer {cli_token}\"},\n",
    "        data=command,\n",
    "    )\n",
    "    if response.status_code != 200:\n",
    "        raise Exception(f\"Failed to invoke CLI: {response.text}\")\n",
    "\n",
    "    output = base64.b64decode(response.json()[\"stdout\"]).decode(\"utf-8\")\n",
    "    print(output.strip())\n",
    "    return output.strip()\n",
    "\n",
    "# --- Set Airflow variables ---\n",
    "for key, value in env_vars.items():\n",
    "    invoke_airflow_cli(f\"variables set {key} {value}\")\n"
   ]
  },
  {
   "cell_type": "code",
   "execution_count": null,
   "metadata": {},
   "outputs": [],
   "source": []
  }
 ],
 "metadata": {
  "kernelspec": {
   "display_name": ".venv",
   "language": "python",
   "name": "python3"
  },
  "language_info": {
   "codemirror_mode": {
    "name": "ipython",
    "version": 3
   },
   "file_extension": ".py",
   "mimetype": "text/x-python",
   "name": "python",
   "nbconvert_exporter": "python",
   "pygments_lexer": "ipython3",
   "version": "3.13.2"
  }
 },
 "nbformat": 4,
 "nbformat_minor": 2
}
