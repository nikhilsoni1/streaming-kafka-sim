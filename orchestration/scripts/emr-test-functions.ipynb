{
 "cells": [
  {
   "cell_type": "code",
   "execution_count": 4,
   "id": "978032a1",
   "metadata": {},
   "outputs": [],
   "source": [
    "def log_ids_on_worker(worker_id):\n",
    "    import random\n",
    "    import socket\n",
    "    from datetime import datetime\n",
    "    hostname = socket.gethostname()\n",
    "    current_time = datetime.now().strftime(\"%Y-%m-%d %H:%M:%S\")\n",
    "    print(f\"Worker ID: {worker_id}, Hostname: {hostname}, Time: {current_time}, Random Number: {random.randint(1, 100)}\")"
   ]
  },
  {
   "cell_type": "code",
   "execution_count": 5,
   "id": "68eb19d2",
   "metadata": {},
   "outputs": [],
   "source": [
    "def generate_random_worker_ids(num=10, lower_limit=1000, upper_limit=9999):\n",
    "    from random import randint\n",
    "    return [randint(lower_limit, upper_limit) for _ in range(num)]"
   ]
  },
  {
   "cell_type": "code",
   "execution_count": 6,
   "id": "7cb49209",
   "metadata": {},
   "outputs": [
    {
     "name": "stdout",
     "output_type": "stream",
     "text": [
      "Worker ID: 4662, Hostname: Mac.attlocal.net, Time: 2025-04-10 18:36:30, Random Number: 4\n",
      "Worker ID: 3543, Hostname: Mac.attlocal.net, Time: 2025-04-10 18:36:30, Random Number: 18\n",
      "Worker ID: 2951, Hostname: Mac.attlocal.net, Time: 2025-04-10 18:36:30, Random Number: 33\n",
      "Worker ID: 7079, Hostname: Mac.attlocal.net, Time: 2025-04-10 18:36:30, Random Number: 27\n",
      "Worker ID: 3698, Hostname: Mac.attlocal.net, Time: 2025-04-10 18:36:30, Random Number: 41\n",
      "Worker ID: 9938, Hostname: Mac.attlocal.net, Time: 2025-04-10 18:36:30, Random Number: 26\n",
      "Worker ID: 9798, Hostname: Mac.attlocal.net, Time: 2025-04-10 18:36:30, Random Number: 68\n",
      "Worker ID: 7891, Hostname: Mac.attlocal.net, Time: 2025-04-10 18:36:30, Random Number: 70\n",
      "Worker ID: 5739, Hostname: Mac.attlocal.net, Time: 2025-04-10 18:36:30, Random Number: 74\n",
      "Worker ID: 7780, Hostname: Mac.attlocal.net, Time: 2025-04-10 18:36:30, Random Number: 55\n"
     ]
    }
   ],
   "source": [
    "worker_ids = generate_random_worker_ids()\n",
    "for worker_id in worker_ids:\n",
    "    log_ids_on_worker(worker_id)"
   ]
  },
  {
   "cell_type": "code",
   "execution_count": null,
   "id": "dff92acc",
   "metadata": {},
   "outputs": [],
   "source": []
  }
 ],
 "metadata": {
  "kernelspec": {
   "display_name": ".venv",
   "language": "python",
   "name": "python3"
  },
  "language_info": {
   "codemirror_mode": {
    "name": "ipython",
    "version": 3
   },
   "file_extension": ".py",
   "mimetype": "text/x-python",
   "name": "python",
   "nbconvert_exporter": "python",
   "pygments_lexer": "ipython3",
   "version": "3.13.2"
  }
 },
 "nbformat": 4,
 "nbformat_minor": 5
}
